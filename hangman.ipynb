{
 "cells": [
  {
   "cell_type": "code",
   "execution_count": null,
   "metadata": {},
   "outputs": [],
   "source": [
    "import random\n",
    "\n",
    "#get all the word from the dictionary\n",
    "file = open('./dictionary.txt','r')\n",
    "content = file.readlines()\n",
    "file.close()\n",
    "\n",
    "#select a random word from the dictionary\n",
    "ans = list(random.choice(content).strip().lower())\n",
    "\n",
    "#default settings\n",
    "win = False\n",
    "lives = 10\n",
    "wrongGuess = []\n",
    "correctGuess = []\n",
    "ansCharSet = list(dict.fromkeys(ans))\n",
    "ansCharSet.sort()\n",
    "print()\n",
    "\n",
    "while lives > 0:\n",
    "    print(\"================================================================\")\n",
    "    #print the hint\n",
    "    for i in range(len(ans)):\n",
    "        if ans[i] in correctGuess:\n",
    "            print(ans[i], end=' ')\n",
    "        else:\n",
    "            print(\"_\", end=' ')\n",
    "    print()\n",
    "\n",
    "    #prompt user input a char\n",
    "    print()\n",
    "    print(\"lives: \", lives)\n",
    "    print(\"Misses: \" + \", \".join(wrongGuess))\n",
    "    guess = input(\"Guess(char): \")\n",
    "    while (len(guess) != 1):\n",
    "        guess = input(\"Guess(char): \")\n",
    "\n",
    "    #checking\n",
    "    if(ans.__contains__(guess)):\n",
    "        correctGuess.append(guess)\n",
    "        correctGuess = list(dict.fromkeys(correctGuess))\n",
    "        correctGuess.sort()\n",
    "    elif (guess not in wrongGuess):\n",
    "            wrongGuess.append(guess)\n",
    "            wrongGuess = list(dict.fromkeys(wrongGuess))\n",
    "            wrongGuess.sort()\n",
    "            lives -= 1\n",
    "    if (correctGuess == ansCharSet):\n",
    "        print(\"You Win!!!\")\n",
    "        print(\"Ans:\", *ans)\n",
    "        break\n",
    "    if lives == 0:\n",
    "        print(\"You Lose!!!\")\n",
    "        print(\"Ans:\", *ans)"
   ]
  }
 ],
 "metadata": {
  "kernelspec": {
   "display_name": "Python 3",
   "language": "python",
   "name": "python3"
  },
  "language_info": {
   "name": "python",
   "version": "3.9.5"
  }
 },
 "nbformat": 4,
 "nbformat_minor": 2
}
